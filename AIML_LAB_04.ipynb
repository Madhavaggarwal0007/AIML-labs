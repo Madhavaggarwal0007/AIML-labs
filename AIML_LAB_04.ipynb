{
  "nbformat": 4,
  "nbformat_minor": 0,
  "metadata": {
    "colab": {
      "provenance": [],
      "authorship_tag": "ABX9TyM4kjeoWaChSQU9fA/L1hTb",
      "include_colab_link": true
    },
    "kernelspec": {
      "name": "python3",
      "display_name": "Python 3"
    },
    "language_info": {
      "name": "python"
    }
  },
  "cells": [
    {
      "cell_type": "markdown",
      "metadata": {
        "id": "view-in-github",
        "colab_type": "text"
      },
      "source": [
        "<a href=\"https://colab.research.google.com/github/Madhavaggarwal0007/AIML-labs/blob/main/AIML_LAB_04.ipynb\" target=\"_parent\"><img src=\"https://colab.research.google.com/assets/colab-badge.svg\" alt=\"Open In Colab\"/></a>"
      ]
    },
    {
      "cell_type": "code",
      "execution_count": 1,
      "metadata": {
        "id": "ura8zNmA7kOV"
      },
      "outputs": [],
      "source": [
        "import pandas as pd\n",
        "from sklearn.preprocessing import StandardScaler,OneHotEncoder"
      ]
    },
    {
      "cell_type": "code",
      "source": [
        "data={\n",
        "    'color':['red','green','blue','red'],\n",
        "    'size':[10,15,20,12],\n",
        "    'price':[20,30,40,25]\n",
        "    }\n",
        "df=pd.DataFrame(data)\n",
        "print(df)\n"
      ],
      "metadata": {
        "colab": {
          "base_uri": "https://localhost:8080/"
        },
        "id": "banVXc4s8U36",
        "outputId": "a7507482-be61-48c4-95a1-adfe2a1bd11b"
      },
      "execution_count": 2,
      "outputs": [
        {
          "output_type": "stream",
          "name": "stdout",
          "text": [
            "   color  size  price\n",
            "0    red    10     20\n",
            "1  green    15     30\n",
            "2   blue    20     40\n",
            "3    red    12     25\n"
          ]
        }
      ]
    },
    {
      "cell_type": "code",
      "source": [
        "#Feature Scaling\n",
        "scaler=StandardScaler()\n",
        "df[['size','price']]=scaler.fit_transform(df[['size','price']])\n",
        "print(\"DataFrame after Feature Scaling(StandardScaler)\")\n",
        "print(df)"
      ],
      "metadata": {
        "colab": {
          "base_uri": "https://localhost:8080/"
        },
        "id": "eGj7-oPx8U5y",
        "outputId": "cc62d22c-52af-498e-95a1-3dd48ec4e6a7"
      },
      "execution_count": 3,
      "outputs": [
        {
          "output_type": "stream",
          "name": "stdout",
          "text": [
            "DataFrame after Feature Scaling(StandardScaler)\n",
            "   color      size     price\n",
            "0    red -1.128330 -1.183216\n",
            "1  green  0.199117  0.169031\n",
            "2   blue  1.526564  1.521278\n",
            "3    red -0.597351 -0.507093\n"
          ]
        }
      ]
    },
    {
      "cell_type": "code",
      "source": [
        "encoder=OneHotEncoder()\n",
        "encoded_data=encoder.fit_transform(df[['color']]).toarray()\n",
        "print('One-Hot Encoded Data frame:')\n",
        "print(encoded_data)"
      ],
      "metadata": {
        "colab": {
          "base_uri": "https://localhost:8080/"
        },
        "id": "x8uneegZ8U7u",
        "outputId": "e4bb7d48-1343-4ca7-af9a-94e9735e5bcc"
      },
      "execution_count": 4,
      "outputs": [
        {
          "output_type": "stream",
          "name": "stdout",
          "text": [
            "One-Hot Encoded Data frame:\n",
            "[[0. 0. 1.]\n",
            " [0. 1. 0.]\n",
            " [1. 0. 0.]\n",
            " [0. 0. 1.]]\n"
          ]
        }
      ]
    },
    {
      "cell_type": "code",
      "source": [
        "encoder=OneHotEncoder()\n",
        "encoded_data=encoder.fit_transform(df[['color']]).toarray()\n",
        "encoded_df=pd.DataFrame(encoded_data,columns=encoder.get_feature_names_out(['color']))\n",
        "print('\\n\\nOne-Hot Encoded Data frame:')\n",
        "print(encoded_df)"
      ],
      "metadata": {
        "colab": {
          "base_uri": "https://localhost:8080/"
        },
        "id": "S7_anhlY8U_I",
        "outputId": "00279b0f-1359-450a-8b3a-35fd8b507cc3"
      },
      "execution_count": 5,
      "outputs": [
        {
          "output_type": "stream",
          "name": "stdout",
          "text": [
            "\n",
            "\n",
            "One-Hot Encoded Data frame:\n",
            "   color_blue  color_green  color_red\n",
            "0         0.0          0.0        1.0\n",
            "1         0.0          1.0        0.0\n",
            "2         1.0          0.0        0.0\n",
            "3         0.0          0.0        1.0\n"
          ]
        }
      ]
    },
    {
      "cell_type": "code",
      "source": [
        "final_df=pd.concat([df.drop('color',axis=1),encoded_df],axis=1)\n",
        "print('\\n\\nFInal DataFrame after Merging OneHotencoder  ')\n",
        "print(final_df)"
      ],
      "metadata": {
        "colab": {
          "base_uri": "https://localhost:8080/"
        },
        "id": "qOtbOcim87LL",
        "outputId": "92c1c194-07b2-4b8e-d4c4-b7226fa92593"
      },
      "execution_count": 6,
      "outputs": [
        {
          "output_type": "stream",
          "name": "stdout",
          "text": [
            "\n",
            "\n",
            "FInal DataFrame after Merging OneHotencoder  \n",
            "       size     price  color_blue  color_green  color_red\n",
            "0 -1.128330 -1.183216         0.0          0.0        1.0\n",
            "1  0.199117  0.169031         0.0          1.0        0.0\n",
            "2  1.526564  1.521278         1.0          0.0        0.0\n",
            "3 -0.597351 -0.507093         0.0          0.0        1.0\n"
          ]
        }
      ]
    }
  ]
}